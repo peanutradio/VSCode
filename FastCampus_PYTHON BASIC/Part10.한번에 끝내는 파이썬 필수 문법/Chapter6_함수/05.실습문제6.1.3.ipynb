{
 "cells": [
  {
   "cell_type": "code",
   "execution_count": 13,
   "metadata": {},
   "outputs": [],
   "source": [
    "# 실습문제 6.1.3\n",
    "# 함수문제 2-로또 번호 추출기\n",
    "\n",
    "import random\n",
    "def get_random_number():\n",
    "    number = random.randint(1,45)\n",
    "    return number"
   ]
  },
  {
   "cell_type": "code",
   "execution_count": 20,
   "metadata": {},
   "outputs": [
    {
     "name": "stdout",
     "output_type": "stream",
     "text": [
      "[1, 5, 7, 8, 16, 29]\n"
     ]
    }
   ],
   "source": [
    "\n",
    "lotto_num = []  #로또 번호 저장 리스트\n",
    "\n",
    "# for i in range(6):\n",
    "#     random_num = get_random_number() \n",
    "#     lotto_num.append(random_num)\n",
    "    \n",
    "count = 0  # 현재 뽑은 숫자 개수\n",
    "\n",
    "while True:\n",
    "    if count  == 6:\n",
    "        break\n",
    "    random_num = get_random_number() \n",
    "    if random_num not in lotto_num:\n",
    "        lotto_num.append(random_num)\n",
    "        count += 1 \n",
    "\n",
    "lotto_num.sort()\n",
    "print(lotto_num)"
   ]
  },
  {
   "cell_type": "code",
   "execution_count": null,
   "metadata": {},
   "outputs": [],
   "source": [
    "# 직접 내가 한번 더 구현해 보기!!!!!!"
   ]
  },
  {
   "cell_type": "code",
   "execution_count": null,
   "metadata": {},
   "outputs": [],
   "source": []
  },
  {
   "cell_type": "code",
   "execution_count": null,
   "metadata": {},
   "outputs": [],
   "source": []
  },
  {
   "cell_type": "code",
   "execution_count": null,
   "metadata": {},
   "outputs": [],
   "source": []
  }
 ],
 "metadata": {
  "kernelspec": {
   "display_name": "Python 3",
   "language": "python",
   "name": "python3"
  },
  "language_info": {
   "codemirror_mode": {
    "name": "ipython",
    "version": 3
   },
   "file_extension": ".py",
   "mimetype": "text/x-python",
   "name": "python",
   "nbconvert_exporter": "python",
   "pygments_lexer": "ipython3",
   "version": "3.11.1"
  },
  "orig_nbformat": 4,
  "vscode": {
   "interpreter": {
    "hash": "aee8b7b246df8f9039afb4144a1f6fd8d2ca17a180786b69acc140d282b71a49"
   }
  }
 },
 "nbformat": 4,
 "nbformat_minor": 2
}
