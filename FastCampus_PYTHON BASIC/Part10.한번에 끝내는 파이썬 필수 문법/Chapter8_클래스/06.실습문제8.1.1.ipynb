{
 "cells": [
  {
   "cell_type": "code",
   "execution_count": 29,
   "metadata": {},
   "outputs": [],
   "source": [
    "class Item:\n",
    "    def __init__(self, name, price, weight, isdropable):\n",
    "        self.name = name\n",
    "        self.price = price \n",
    "        self.weight = weight\n",
    "        self.isdropable = isdropable\n",
    "\n",
    "    def sale(self):\n",
    "        print(f\"[{self.name}] 판매가격은 [{self.price}]\")\n",
    "    \n",
    "    def discard(self):\n",
    "        if self.isdropable:\n",
    "             print(f\"[{self.name}] 버렸습니다. \")\n",
    "        else:\n",
    "            print(f\"[{self.name}] 버릴 수 없습니다. \")\n",
    "\n",
    "class WearableItem(Item):\n",
    "    def __init__(self, name, price, weight, isdropable, effect):\n",
    "        super().__init__(name, price, weight, isdropable)\n",
    "        self.effect = effect\n",
    "    def wear(self):\n",
    "        print(f\"[{self.name}] 착용했습니다. [{self.effect}]\")\n",
    "\n",
    "class UseableItem(Item):\n",
    "    def __init__(self, name, price, weight, isdropable, effect):\n",
    "        super().__init__(name, price, weight, isdropable)\n",
    "        self.effect = effect\n",
    "    def use(self):\n",
    "        print(f\"[{self.name}] 사용했습니다. [{self.effect}]\")"
   ]
  },
  {
   "cell_type": "code",
   "execution_count": 35,
   "metadata": {},
   "outputs": [
    {
     "ename": "TypeError",
     "evalue": "WearableItem.__init__() missing 1 required positional argument: 'effect'",
     "output_type": "error",
     "traceback": [
      "\u001b[0;31m---------------------------------------------------------------------------\u001b[0m",
      "\u001b[0;31mTypeError\u001b[0m                                 Traceback (most recent call last)",
      "Cell \u001b[0;32mIn[35], line 2\u001b[0m\n\u001b[1;32m      1\u001b[0m \u001b[39m# 인스턴스 생성\u001b[39;00m\n\u001b[0;32m----> 2\u001b[0m sword \u001b[39m=\u001b[39m WearableItem(\u001b[39m\"\u001b[39;49m\u001b[39m이가닌자의 검\u001b[39;49m\u001b[39m\"\u001b[39;49m, \u001b[39m30000\u001b[39;49m, \u001b[39m3.5\u001b[39;49m, \u001b[39m\"\u001b[39;49m\u001b[39m체력 5000 증가, 마력 5000 증가\u001b[39;49m\u001b[39m\"\u001b[39;49m)\n\u001b[1;32m      3\u001b[0m sword\u001b[39m.\u001b[39mwear()\n\u001b[1;32m      4\u001b[0m sword\u001b[39m.\u001b[39msale()\n",
      "\u001b[0;31mTypeError\u001b[0m: WearableItem.__init__() missing 1 required positional argument: 'effect'"
     ]
    }
   ],
   "source": [
    "# 인스턴스 생성\n",
    "sword = WearableItem(\"이가닌자의 검\", 30000, 3.5, \"체력 5000 증가, 마력 5000 증가\")\n",
    "sword.wear()\n",
    "sword.sale()\n",
    "sword.discard()\n",
    "\n",
    "potion = UseableItem(\"신비한두명물약\", 1500, 0.1, Flase, \"투명효과 300초 지속\")\n",
    "potion.discard()\n",
    "potion.sale()\n",
    "potion.use()"
   ]
  },
  {
   "cell_type": "code",
   "execution_count": 1,
   "metadata": {},
   "outputs": [
    {
     "ename": "ModuleNotFoundError",
     "evalue": "No module named 'pyautogui'",
     "output_type": "error",
     "traceback": [
      "\u001b[0;31m---------------------------------------------------------------------------\u001b[0m",
      "\u001b[0;31mModuleNotFoundError\u001b[0m                       Traceback (most recent call last)",
      "Cell \u001b[0;32mIn[1], line 1\u001b[0m\n\u001b[0;32m----> 1\u001b[0m \u001b[39mimport\u001b[39;00m \u001b[39mpyautogui\u001b[39;00m \u001b[39mas\u001b[39;00m \u001b[39mpg\u001b[39;00m\n\u001b[1;32m      2\u001b[0m pd\u001b[39m.\u001b[39mmoveTo(\u001b[39m500\u001b[39m, \u001b[39m500\u001b[39m,duration\u001b[39m=\u001b[39m\u001b[39m2\u001b[39m)\n",
      "\u001b[0;31mModuleNotFoundError\u001b[0m: No module named 'pyautogui'"
     ]
    }
   ],
   "source": []
  },
  {
   "cell_type": "code",
   "execution_count": null,
   "metadata": {},
   "outputs": [],
   "source": []
  },
  {
   "cell_type": "code",
   "execution_count": null,
   "metadata": {},
   "outputs": [],
   "source": []
  },
  {
   "cell_type": "code",
   "execution_count": null,
   "metadata": {},
   "outputs": [],
   "source": []
  }
 ],
 "metadata": {
  "kernelspec": {
   "display_name": "Python 3",
   "language": "python",
   "name": "python3"
  },
  "language_info": {
   "codemirror_mode": {
    "name": "ipython",
    "version": 3
   },
   "file_extension": ".py",
   "mimetype": "text/x-python",
   "name": "python",
   "nbconvert_exporter": "python",
   "pygments_lexer": "ipython3",
   "version": "3.11.1"
  },
  "orig_nbformat": 4,
  "vscode": {
   "interpreter": {
    "hash": "aee8b7b246df8f9039afb4144a1f6fd8d2ca17a180786b69acc140d282b71a49"
   }
  }
 },
 "nbformat": 4,
 "nbformat_minor": 2
}
